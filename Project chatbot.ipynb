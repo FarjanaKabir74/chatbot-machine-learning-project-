{
 "cells": [
  {
   "cell_type": "code",
   "execution_count": 4,
   "id": "b2fb312b-5e9c-4476-aa12-d42f4fef3639",
   "metadata": {},
   "outputs": [
    {
     "name": "stdout",
     "output_type": "stream",
     "text": [
      "Welcome to the Q&A Chatbot! Ask your question (type 'exit' to quit):\n"
     ]
    },
    {
     "name": "stdin",
     "output_type": "stream",
     "text": [
      "\n",
      "You:  hi\n"
     ]
    },
    {
     "name": "stdout",
     "output_type": "stream",
     "text": [
      "ChatSimple: Hello there! How can I help you?\n"
     ]
    },
    {
     "name": "stdin",
     "output_type": "stream",
     "text": [
      "\n",
      "You:  what is energy\n"
     ]
    },
    {
     "name": "stdout",
     "output_type": "stream",
     "text": [
      "Chatbot: Energy is the capacity to do work.\n"
     ]
    },
    {
     "name": "stdin",
     "output_type": "stream",
     "text": [
      "\n",
      "You:  bye\n"
     ]
    },
    {
     "name": "stdout",
     "output_type": "stream",
     "text": [
      "ChatSimple: Goodbye! Have a nice day.\n"
     ]
    }
   ],
   "source": [
    "def create_qa_database():\n",
    "    return {\n",
    "        # ---- Physics Q&A ----\n",
    "        \"what is newton's first law\": \"An object remains at rest or in motion unless acted upon by an external force.\",\n",
    "        \"what is acceleration\": \"Acceleration is the rate of change of velocity over time.\",\n",
    "        \"define velocity\": \"Velocity is the speed of something in a given direction.\",\n",
    "        \"what is gravity\": \"Gravity is the force that attracts a body toward the center of the earth.\",\n",
    "        \"what is force\": \"Force is any interaction that changes the motion of an object.\",\n",
    "        \"what is work in physics\": \"Work is done when a force is applied to an object and it moves in the direction of the force.\",\n",
    "        \"what is power in physics\": \"Power is the rate at which work is done.\",\n",
    "        \"what is energy\": \"Energy is the capacity to do work.\",\n",
    "        \"define kinetic energy\": \"Kinetic energy is the energy an object possesses due to its motion.\",\n",
    "        \"what is potential energy\": \"Potential energy is stored energy due to an object's position.\",\n",
    "        \"what is friction\": \"Friction is the resistance to motion of one object moving relative to another.\",\n",
    "        \"what is momentum\": \"Momentum is the product of an object’s mass and velocity.\",\n",
    "        \"define inertia\": \"Inertia is the resistance of any object to a change in its state of motion.\",\n",
    "        \"what is the unit of force\": \"The SI unit of force is the Newton (N).\",\n",
    "        \"what is pressure\": \"Pressure is the force applied per unit area.\",\n",
    "        \"what is pascal’s law\": \"Pascal’s Law states that pressure applied to an enclosed fluid is transmitted equally in all directions.\",\n",
    "        \"define frequency\": \"Frequency is the number of cycles per second, measured in Hertz (Hz).\",\n",
    "        \"what is wavelength\": \"Wavelength is the distance between two successive peaks of a wave.\",\n",
    "        \"what is refraction\": \"Refraction is the bending of light as it passes from one medium to another.\",\n",
    "        \"what is reflection\": \"Reflection is the bouncing back of light when it hits a surface.\",\n",
    "        \"what is the speed of light\": \"The speed of light in a vacuum is approximately 3 x 10^8 m/s.\",\n",
    "        \"what is the photoelectric effect\": \"The photoelectric effect is the emission of electrons when light shines on a material.\",\n",
    "        \"what is nuclear fission\": \"Nuclear fission is the splitting of a nucleus into smaller parts with the release of energy.\",\n",
    "        \"what is half-life\": \"Half-life is the time taken for half the atoms in a radioactive material to decay.\",\n",
    "        \"define entropy\": \"Entropy is a measure of disorder in a system.\",\n",
    "\n",
    "        # ---- Business Q&A ----\n",
    "        \"what is a business\": \"A business is an organization engaged in commercial or professional activities.\",\n",
    "        \"what is entrepreneurship\": \"Entrepreneurship is the act of creating and managing a business to make a profit.\",\n",
    "        \"define marketing\": \"Marketing involves promoting and selling products or services.\",\n",
    "        \"what is market segmentation\": \"Market segmentation divides a market into distinct groups of customers.\",\n",
    "        \"what is a business plan\": \"A business plan is a document that outlines goals and strategies for a business.\",\n",
    "        \"what is swot analysis\": \"SWOT stands for Strengths, Weaknesses, Opportunities, and Threats.\",\n",
    "        \"what is the marketing mix\": \"The marketing mix includes Product, Price, Place, and Promotion.\",\n",
    "        \"what is revenue\": \"Revenue is the total income generated by sales.\",\n",
    "        \"what is profit\": \"Profit is the amount left after subtracting costs from revenue.\",\n",
    "        \"what is a balance sheet\": \"A balance sheet shows a company’s assets, liabilities, and equity.\",\n",
    "        \"what is cash flow\": \"Cash flow is the total amount of money being transferred into and out of a business.\",\n",
    "        \"what is inflation\": \"Inflation is the rate at which general price levels rise.\",\n",
    "        \"what is demand\": \"Demand is the quantity of a good that consumers are willing to buy at a certain price.\",\n",
    "        \"what is supply\": \"Supply is the quantity of a good that producers are willing to sell at a certain price.\",\n",
    "        \"what is strategic planning\": \"Strategic planning defines a business's direction and decision-making priorities.\",\n",
    "        \"what is management\": \"Management involves planning, organizing, leading, and controlling business resources.\",\n",
    "        \"what is leadership\": \"Leadership is the ability to guide and influence others.\",\n",
    "        \"what is e-commerce\": \"E-commerce is the buying and selling of goods or services over the internet.\",\n",
    "        \"what is a sole proprietorship\": \"A sole proprietorship is a business owned and run by one person.\",\n",
    "        \"what is a corporation\": \"A corporation is a legal entity separate from its owners.\",\n",
    "        \"what is liability\": \"Liability is a company’s legal debt or obligation.\",\n",
    "        \"what is investment\": \"Investment is the allocation of resources to generate profit.\",\n",
    "        \"what is return on investment\": \"ROI measures the gain or loss from an investment relative to its cost.\",\n",
    "        \"what is break-even point\": \"The break-even point is when total revenue equals total costs.\",\n",
    "        \"what is customer satisfaction\": \"Customer satisfaction is a measure of how products and services meet customer expectations.\",\n",
    "    }\n",
    "\n",
    "def chatbot():\n",
    "    qa_pairs = create_qa_database()\n",
    "    print(\"Welcome to the Q&A Chatbot! Ask your question (type 'exit' to quit):\")\n",
    "    while True:\n",
    "        user_input = input(\"\\nYou: \").strip().lower()\n",
    "        if user_input == \"exit\":\n",
    "            print(\"Chatbot: Goodbye!\")\n",
    "            break\n",
    "        elif user_input == \"bye\":\n",
    "            print(\"ChatSimple: Goodbye! Have a nice day.\")\n",
    "            break\n",
    "        elif \"hello\" in user_input or \"hi\" in user_input:\n",
    "            print(\"ChatSimple: Hello there! How can I help you?\")\n",
    "        elif \"how are you\" in user_input:\n",
    "            print(\"ChatSimple: I'm just a program, but I'm doing fine! 😊\")\n",
    "        elif \"your name\" in user_input:\n",
    "            print(\"ChatSimple: I'm ChatSimple, your friendly chatbot.\")\n",
    "        elif \"help\" in user_input:\n",
    "            print(\"ChatSimple: Sure! Ask me anything about Physics, Business, or just say hello.\")\n",
    "        else:\n",
    "            answer = qa_pairs.get(user_input, \"Sorry, I don't have an answer to that question.\")\n",
    "            print(f\"Chatbot: {answer}\")\n",
    "\n",
    "if __name__ == \"__main__\":\n",
    "    chatbot()\n"
   ]
  },
  {
   "cell_type": "code",
   "execution_count": null,
   "id": "a824611f-8388-4b4a-8302-7de9af6aa238",
   "metadata": {},
   "outputs": [],
   "source": []
  }
 ],
 "metadata": {
  "kernelspec": {
   "display_name": "Python 3 (ipykernel)",
   "language": "python",
   "name": "python3"
  },
  "language_info": {
   "codemirror_mode": {
    "name": "ipython",
    "version": 3
   },
   "file_extension": ".py",
   "mimetype": "text/x-python",
   "name": "python",
   "nbconvert_exporter": "python",
   "pygments_lexer": "ipython3",
   "version": "3.13.3"
  }
 },
 "nbformat": 4,
 "nbformat_minor": 5
}
